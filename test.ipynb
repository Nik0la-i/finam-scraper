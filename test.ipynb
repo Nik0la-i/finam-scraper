{
 "cells": [
  {
   "cell_type": "code",
   "execution_count": 2,
   "metadata": {
    "collapsed": true
   },
   "outputs": [],
   "source": [
    "import pandas as pd\n",
    "import json\n",
    "import io"
   ]
  },
  {
   "cell_type": "code",
   "execution_count": 3,
   "outputs": [],
   "source": [
    "with io.open('./filteredInstruments.json', 'r', encoding=\"utf-8\") as em_file:\n",
    "    data = em_file.read()\n",
    "    instruments = json.loads(data)\n",
    "# for stocks only\n",
    "# instruments = [x for x in self.instruments if (x['market'] == 1) or (x['market'] == 200)]"
   ],
   "metadata": {
    "collapsed": false
   }
  },
  {
   "cell_type": "code",
   "execution_count": 15,
   "outputs": [
    {
     "name": "stdout",
     "output_type": "stream",
     "text": [
      "228\n"
     ]
    }
   ],
   "source": [
    "instruments_trunc = [x for x in instruments if (x['market'] == 1)]\n",
    "inst = []\n",
    "print(len(instruments_trunc))\n",
    "for i in instruments_trunc:\n",
    "    inst.append(i['code'])"
   ],
   "metadata": {
    "collapsed": false
   }
  },
  {
   "cell_type": "code",
   "execution_count": 16,
   "outputs": [
    {
     "data": {
      "text/plain": "['ABRD',\n 'ACKO',\n 'AFKS',\n 'AFLT',\n 'AGRO',\n 'AKRN',\n 'ALNU',\n 'ALRS',\n 'AMEZ',\n 'APTK',\n 'AQUA',\n 'ASSB',\n 'AVAN',\n 'BANE',\n 'BANEP',\n 'BELU',\n 'BISVP',\n 'BLNG',\n 'BRZL',\n 'BSPB',\n 'CBOM',\n 'CHEP',\n 'CHGZ',\n 'CHKZ',\n 'CHMF',\n 'CHMK',\n 'CNTL',\n 'CNTLP',\n 'DASB',\n 'DSKY',\n 'DZRD',\n 'DZRDP',\n 'EELT',\n 'ELTZ',\n 'ENPL',\n 'ENRU',\n 'FEES',\n 'FESH',\n 'FIVE',\n 'FTRE',\n 'GAZA',\n 'GAZAP',\n 'GAZP',\n 'GCHE',\n 'GMKN',\n 'GRNT',\n 'HALS',\n 'HIMCP',\n 'HYDR',\n 'IGST',\n 'IGSTP',\n 'IRAO',\n 'IRGZ',\n 'IRKT',\n 'ISKJ',\n 'JNOS',\n 'JNOSP',\n 'KAZT',\n 'KAZTP',\n 'KBTK',\n 'KCHE',\n 'KCHEP',\n 'KLSB',\n 'KMAZ',\n 'KMEZ',\n 'KOGK',\n 'KRKNP',\n 'KRKOP',\n 'KROT',\n 'KROTP',\n 'KRSB',\n 'KRSBP',\n 'KTSB',\n 'KTSBP',\n 'KUBE',\n 'KUZB',\n 'KZOS',\n 'KZOSP',\n 'LIFE',\n 'LKOH',\n 'LNTA',\n 'LNZL',\n 'LNZLP',\n 'LPSB',\n 'LSNG',\n 'LSNGP',\n 'LSRG',\n 'MAGE',\n 'MAGN',\n 'MFGS',\n 'MFGSP',\n 'MFON',\n 'MGNT',\n 'MGNZ',\n 'MGTS',\n 'MGTSP',\n 'MISB',\n 'MOBB',\n 'MOEX',\n 'MRKC',\n 'MRKK',\n 'MRKP',\n 'MRKS',\n 'MRKU',\n 'MRKV',\n 'MRKY',\n 'MRKZ',\n 'MRSB',\n 'MSNG',\n 'MSRS',\n 'MSST',\n 'MSTT',\n 'MTLR',\n 'MTLRP',\n 'MTSS',\n 'MVID',\n 'NAUK',\n 'NKHP',\n 'NKNC',\n 'NKNCP',\n 'NKSH',\n 'NLMK',\n 'NMTP',\n 'NNSB',\n 'NNSBP',\n 'NVTK',\n 'OBUV',\n 'ODVA',\n 'OGKB',\n 'OMZZP',\n 'OPIN',\n 'PAZA',\n 'PHOR',\n 'PIKK',\n 'PLSM',\n 'PLZL',\n 'PMSB',\n 'PMSBP',\n 'POLY',\n 'PRFN',\n 'PRMB',\n 'PRTK',\n 'QIWI',\n 'RASP',\n 'RAVN',\n 'RBCM',\n 'RGSS',\n 'RKKE',\n 'RNFT',\n 'ROLO',\n 'ROSB',\n 'ROSN',\n 'ROST',\n 'RSTI',\n 'RSTIP',\n 'RTKM',\n 'RTKMP',\n 'RTSB',\n 'RTSBP',\n 'RUAL',\n 'RUGR',\n 'RUSI',\n 'RUSP',\n 'RZSB',\n 'SAGOP',\n 'SARE',\n 'SAREP',\n 'SBER',\n 'SBERP',\n 'SELG',\n 'SELGP',\n 'SFIN',\n 'SIBG',\n 'SIBN',\n 'SLEN',\n 'SNGS',\n 'SNGSP',\n 'STSB',\n 'STSBP',\n 'SVAV',\n 'SZPR',\n 'TANL',\n 'TASB',\n 'TASBP',\n 'TATN',\n 'TATNP',\n 'TGKA',\n 'TGKB',\n 'TGKBP',\n 'TGKD',\n 'TGKDP',\n 'TGKN',\n 'TORS',\n 'TORSP',\n 'TRCN',\n 'TRMK',\n 'TRNFP',\n 'TTLK',\n 'TUCH',\n 'UCSS',\n 'UKUZ',\n 'UPRO',\n 'URKA',\n 'URKZ',\n 'USBN',\n 'UTAR',\n 'UWGN',\n 'VDSB',\n 'VGSB',\n 'VGSBP',\n 'VJGZ',\n 'VJGZP',\n 'VLHZ',\n 'VRSB',\n 'VSMO',\n 'VSYD',\n 'VSYDP',\n 'VTBR',\n 'VZRZ',\n 'VZRZP',\n 'WTCM',\n 'WTCMP',\n 'YAKG',\n 'YKEN',\n 'YKENP',\n 'YNDX',\n 'YRSB',\n 'ZVEZ']"
     },
     "execution_count": 16,
     "metadata": {},
     "output_type": "execute_result"
    }
   ],
   "source": [
    "sorted(inst)"
   ],
   "metadata": {
    "collapsed": false
   }
  },
  {
   "cell_type": "code",
   "execution_count": null,
   "outputs": [],
   "source": [],
   "metadata": {
    "collapsed": false
   }
  },
  {
   "cell_type": "code",
   "execution_count": null,
   "outputs": [],
   "source": [],
   "metadata": {
    "collapsed": false
   }
  }
 ],
 "metadata": {
  "kernelspec": {
   "display_name": "Python 3",
   "language": "python",
   "name": "python3"
  },
  "language_info": {
   "codemirror_mode": {
    "name": "ipython",
    "version": 2
   },
   "file_extension": ".py",
   "mimetype": "text/x-python",
   "name": "python",
   "nbconvert_exporter": "python",
   "pygments_lexer": "ipython2",
   "version": "2.7.6"
  }
 },
 "nbformat": 4,
 "nbformat_minor": 0
}
