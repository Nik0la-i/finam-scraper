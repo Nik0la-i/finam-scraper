{
 "cells": [
  {
   "cell_type": "code",
   "execution_count": 1,
   "metadata": {},
   "outputs": [],
   "source": [
    "import pandas as pd\n",
    "import json\n",
    "import io"
   ]
  },
  {
   "cell_type": "code",
   "execution_count": 26,
   "metadata": {},
   "outputs": [],
   "source": [
    "with io.open('./instruments2.json', 'r', encoding=\"utf-8\") as em_file:\n",
    "    data = em_file.read()\n",
    "    #instruments = json.loads(data)\n",
    "# for stocks only\n",
    "# instruments = [x for x in self.instruments if (x['market'] == 1) or (x['market'] == 200)]"
   ]
  },
  {
   "cell_type": "code",
   "execution_count": 38,
   "metadata": {},
   "outputs": [],
   "source": [
    "# repare instruments2.json\n",
    "# data = data.replace('\"JSC \\\\\\\\\"Bank of Astana\\\\\\\\\"\"', 'JSC Bank of Astana')\n",
    "# data = data.replace('\"JSC \\\\\\\\\"Bank of Astana\\\\\\\\\"   ind\"', 'JSC Bank of Astana')\n",
    "# data = data.replace('\"JSC \\\\\\\\\"Bank of Astana\\\\\\\\\"   ind\"', 'JSC Bank of Astana')\n",
    "# data = data.replace('\"JSC \\\\\\\\\"NAC \\\\\\\\\"Kazatomprom\\\\\\\\\"', 'NAC Kazatomprom')\n",
    "# data = data.replace('\"JSC \\\\\\\\\"Bank of Astana\\\\\\\\\"\"', 'JSC Bank of Astana')\n",
    "# data = data.replace('\"JSC \\\\\"Bank of Astana\\\\\"\"', 'JSC Bank of Astana')\n",
    "# data = data.replace('\"JSC \\\\\"Bank of Astana\\\\\"\"','JSC Bank of Astana')\n",
    "# data = data.replace('JSC Bank of Astana', '\"JSC Bank of Astana\"')\n",
    "# data = data.replace('NAC Kazatomprom', '\"NAC Kazatomprom\"')\n",
    "# data = data.replace('\"NAC Kazatomprom\", GDR\"', '\"NAC Kazatomprom, GDR\"')\n",
    "####################################\n",
    "# data = data.replace('\\\\\\\\\"', '')\n",
    "# data = data.replace('\"\"', '\"')\n",
    "# data = data.replace(':\",\"market\"', ':\"\", \"market\"')\n",
    "# data = data.replace('\"code\":\",', '\"code\":\"none\",')\n",
    "# instruments = json.loads(data)\n",
    "\n",
    "# with io.open('./instruments2.json', 'w') as em_file:\n",
    "# #     em_file.write(data)\n",
    "#     json.dump(instruments, em_file)\n",
    "\n",
    "\n"
   ]
  },
  {
   "cell_type": "code",
   "execution_count": 7,
   "metadata": {},
   "outputs": [
    {
     "data": {
      "text/plain": [
       "''"
      ]
     },
     "execution_count": 7,
     "metadata": {},
     "output_type": "execute_result"
    }
   ],
   "source": [
    "data"
   ]
  },
  {
   "cell_type": "code",
   "execution_count": 9,
   "metadata": {},
   "outputs": [
    {
     "ename": "JSONDecodeError",
     "evalue": "Expecting ',' delimiter: line 1 column 1583127 (char 1583126)",
     "output_type": "error",
     "traceback": [
      "\u001b[0;31m---------------------------------------------------------------------------\u001b[0m",
      "\u001b[0;31mJSONDecodeError\u001b[0m                           Traceback (most recent call last)",
      "\u001b[0;32m/tmp/ipykernel_29430/4020869022.py\u001b[0m in \u001b[0;36m<module>\u001b[0;34m\u001b[0m\n\u001b[0;32m----> 1\u001b[0;31m \u001b[0minstruments\u001b[0m \u001b[0;34m=\u001b[0m \u001b[0mjson\u001b[0m\u001b[0;34m.\u001b[0m\u001b[0mloads\u001b[0m\u001b[0;34m(\u001b[0m\u001b[0mdata\u001b[0m\u001b[0;34m)\u001b[0m\u001b[0;34m\u001b[0m\u001b[0;34m\u001b[0m\u001b[0m\n\u001b[0m",
      "\u001b[0;32m~/anaconda3/lib/python3.9/json/__init__.py\u001b[0m in \u001b[0;36mloads\u001b[0;34m(s, cls, object_hook, parse_float, parse_int, parse_constant, object_pairs_hook, **kw)\u001b[0m\n\u001b[1;32m    344\u001b[0m             \u001b[0mparse_int\u001b[0m \u001b[0;32mis\u001b[0m \u001b[0;32mNone\u001b[0m \u001b[0;32mand\u001b[0m \u001b[0mparse_float\u001b[0m \u001b[0;32mis\u001b[0m \u001b[0;32mNone\u001b[0m \u001b[0;32mand\u001b[0m\u001b[0;34m\u001b[0m\u001b[0;34m\u001b[0m\u001b[0m\n\u001b[1;32m    345\u001b[0m             parse_constant is None and object_pairs_hook is None and not kw):\n\u001b[0;32m--> 346\u001b[0;31m         \u001b[0;32mreturn\u001b[0m \u001b[0m_default_decoder\u001b[0m\u001b[0;34m.\u001b[0m\u001b[0mdecode\u001b[0m\u001b[0;34m(\u001b[0m\u001b[0ms\u001b[0m\u001b[0;34m)\u001b[0m\u001b[0;34m\u001b[0m\u001b[0;34m\u001b[0m\u001b[0m\n\u001b[0m\u001b[1;32m    347\u001b[0m     \u001b[0;32mif\u001b[0m \u001b[0mcls\u001b[0m \u001b[0;32mis\u001b[0m \u001b[0;32mNone\u001b[0m\u001b[0;34m:\u001b[0m\u001b[0;34m\u001b[0m\u001b[0;34m\u001b[0m\u001b[0m\n\u001b[1;32m    348\u001b[0m         \u001b[0mcls\u001b[0m \u001b[0;34m=\u001b[0m \u001b[0mJSONDecoder\u001b[0m\u001b[0;34m\u001b[0m\u001b[0;34m\u001b[0m\u001b[0m\n",
      "\u001b[0;32m~/anaconda3/lib/python3.9/json/decoder.py\u001b[0m in \u001b[0;36mdecode\u001b[0;34m(self, s, _w)\u001b[0m\n\u001b[1;32m    335\u001b[0m \u001b[0;34m\u001b[0m\u001b[0m\n\u001b[1;32m    336\u001b[0m         \"\"\"\n\u001b[0;32m--> 337\u001b[0;31m         \u001b[0mobj\u001b[0m\u001b[0;34m,\u001b[0m \u001b[0mend\u001b[0m \u001b[0;34m=\u001b[0m \u001b[0mself\u001b[0m\u001b[0;34m.\u001b[0m\u001b[0mraw_decode\u001b[0m\u001b[0;34m(\u001b[0m\u001b[0ms\u001b[0m\u001b[0;34m,\u001b[0m \u001b[0midx\u001b[0m\u001b[0;34m=\u001b[0m\u001b[0m_w\u001b[0m\u001b[0;34m(\u001b[0m\u001b[0ms\u001b[0m\u001b[0;34m,\u001b[0m \u001b[0;36m0\u001b[0m\u001b[0;34m)\u001b[0m\u001b[0;34m.\u001b[0m\u001b[0mend\u001b[0m\u001b[0;34m(\u001b[0m\u001b[0;34m)\u001b[0m\u001b[0;34m)\u001b[0m\u001b[0;34m\u001b[0m\u001b[0;34m\u001b[0m\u001b[0m\n\u001b[0m\u001b[1;32m    338\u001b[0m         \u001b[0mend\u001b[0m \u001b[0;34m=\u001b[0m \u001b[0m_w\u001b[0m\u001b[0;34m(\u001b[0m\u001b[0ms\u001b[0m\u001b[0;34m,\u001b[0m \u001b[0mend\u001b[0m\u001b[0;34m)\u001b[0m\u001b[0;34m.\u001b[0m\u001b[0mend\u001b[0m\u001b[0;34m(\u001b[0m\u001b[0;34m)\u001b[0m\u001b[0;34m\u001b[0m\u001b[0;34m\u001b[0m\u001b[0m\n\u001b[1;32m    339\u001b[0m         \u001b[0;32mif\u001b[0m \u001b[0mend\u001b[0m \u001b[0;34m!=\u001b[0m \u001b[0mlen\u001b[0m\u001b[0;34m(\u001b[0m\u001b[0ms\u001b[0m\u001b[0;34m)\u001b[0m\u001b[0;34m:\u001b[0m\u001b[0;34m\u001b[0m\u001b[0;34m\u001b[0m\u001b[0m\n",
      "\u001b[0;32m~/anaconda3/lib/python3.9/json/decoder.py\u001b[0m in \u001b[0;36mraw_decode\u001b[0;34m(self, s, idx)\u001b[0m\n\u001b[1;32m    351\u001b[0m         \"\"\"\n\u001b[1;32m    352\u001b[0m         \u001b[0;32mtry\u001b[0m\u001b[0;34m:\u001b[0m\u001b[0;34m\u001b[0m\u001b[0;34m\u001b[0m\u001b[0m\n\u001b[0;32m--> 353\u001b[0;31m             \u001b[0mobj\u001b[0m\u001b[0;34m,\u001b[0m \u001b[0mend\u001b[0m \u001b[0;34m=\u001b[0m \u001b[0mself\u001b[0m\u001b[0;34m.\u001b[0m\u001b[0mscan_once\u001b[0m\u001b[0;34m(\u001b[0m\u001b[0ms\u001b[0m\u001b[0;34m,\u001b[0m \u001b[0midx\u001b[0m\u001b[0;34m)\u001b[0m\u001b[0;34m\u001b[0m\u001b[0;34m\u001b[0m\u001b[0m\n\u001b[0m\u001b[1;32m    354\u001b[0m         \u001b[0;32mexcept\u001b[0m \u001b[0mStopIteration\u001b[0m \u001b[0;32mas\u001b[0m \u001b[0merr\u001b[0m\u001b[0;34m:\u001b[0m\u001b[0;34m\u001b[0m\u001b[0;34m\u001b[0m\u001b[0m\n\u001b[1;32m    355\u001b[0m             \u001b[0;32mraise\u001b[0m \u001b[0mJSONDecodeError\u001b[0m\u001b[0;34m(\u001b[0m\u001b[0;34m\"Expecting value\"\u001b[0m\u001b[0;34m,\u001b[0m \u001b[0ms\u001b[0m\u001b[0;34m,\u001b[0m \u001b[0merr\u001b[0m\u001b[0;34m.\u001b[0m\u001b[0mvalue\u001b[0m\u001b[0;34m)\u001b[0m \u001b[0;32mfrom\u001b[0m \u001b[0;32mNone\u001b[0m\u001b[0;34m\u001b[0m\u001b[0;34m\u001b[0m\u001b[0m\n",
      "\u001b[0;31mJSONDecodeError\u001b[0m: Expecting ',' delimiter: line 1 column 1583127 (char 1583126)"
     ]
    }
   ],
   "source": [
    "# instruments = json.loads(data)"
   ]
  },
  {
   "cell_type": "code",
   "execution_count": 39,
   "metadata": {},
   "outputs": [
    {
     "name": "stdout",
     "output_type": "stream",
     "text": [
      "74\n"
     ]
    }
   ],
   "source": [
    "# from instruments 1379\n",
    "# from instruments2 - 2427\n",
    "# market == 517 - spb\n",
    "# market == 6 world indecies\n",
    "\n",
    "instruments_trunc = [x for x in instruments if (x['market'] == 6)]\n",
    "inst = []\n",
    "print(len(instruments_trunc))\n",
    "for i in instruments_trunc:\n",
    "    inst.append(i['code'])"
   ]
  },
  {
   "cell_type": "code",
   "execution_count": 40,
   "metadata": {},
   "outputs": [
    {
     "data": {
      "text/plain": [
       "['000001',\n",
       " '000300',\n",
       " '399904',\n",
       " 'BVSP',\n",
       " 'DJI',\n",
       " 'GTS_TIS',\n",
       " 'HIS',\n",
       " 'IMOEX',\n",
       " 'IMOEX2',\n",
       " 'INX',\n",
       " 'KOSPI',\n",
       " 'MERV',\n",
       " 'MOEX10',\n",
       " 'MOEXBC',\n",
       " 'MOEXBMI',\n",
       " 'MOEXCH',\n",
       " 'MOEXCN',\n",
       " 'MOEXEU',\n",
       " 'MOEXFN',\n",
       " 'MOEXINN',\n",
       " 'MOEXMM',\n",
       " 'MOEXOG',\n",
       " 'MOEXREPO',\n",
       " 'MOEXREPO1W',\n",
       " 'MOEXREPO1WE',\n",
       " 'MOEXREPOE',\n",
       " 'MOEXREPOEQ',\n",
       " 'MOEXREPOEQE',\n",
       " 'MOEXREPOUSD',\n",
       " 'MOEXREPOUSDE',\n",
       " 'MOEXTL',\n",
       " 'MOEXTN',\n",
       " 'NI255',\n",
       " 'PX1',\n",
       " 'RGBI',\n",
       " 'RGBITR',\n",
       " 'RPGCC',\n",
       " 'RPGCC1W',\n",
       " 'RPGCC1WE',\n",
       " 'RPGCCE',\n",
       " 'RTSCH',\n",
       " 'RTSCR',\n",
       " 'RTSEU',\n",
       " 'RTSFN',\n",
       " 'RTSI',\n",
       " 'RTSMM',\n",
       " 'RTSOG',\n",
       " 'RTST',\n",
       " 'RTSTL',\n",
       " 'RTSTN',\n",
       " 'RTSVX',\n",
       " 'RTScr',\n",
       " 'RTSin',\n",
       " 'RTSog',\n",
       " 'RTStl',\n",
       " 'RUBMI',\n",
       " 'RUCBCP3Y',\n",
       " 'RUCBCP5Y',\n",
       " 'RUCBICP',\n",
       " 'RUCBITR',\n",
       " 'RUCBTR3Y',\n",
       " 'RUCBTR5Y',\n",
       " 'RUIX',\n",
       " 'RUMBICP',\n",
       " 'RUMBITR',\n",
       " 'RVI',\n",
       " 'SENSEX',\n",
       " 'TA125',\n",
       " 'TA35',\n",
       " 'TIS',\n",
       " 'TIU',\n",
       " 'UKX',\n",
       " 'XAX',\n",
       " 'XJO']"
      ]
     },
     "execution_count": 40,
     "metadata": {},
     "output_type": "execute_result"
    }
   ],
   "source": [
    "sorted(inst)"
   ]
  },
  {
   "cell_type": "code",
   "execution_count": null,
   "metadata": {},
   "outputs": [],
   "source": []
  },
  {
   "cell_type": "code",
   "execution_count": null,
   "metadata": {},
   "outputs": [],
   "source": []
  }
 ],
 "metadata": {
  "kernelspec": {
   "display_name": "Python 3 (ipykernel)",
   "language": "python",
   "name": "python3"
  },
  "language_info": {
   "codemirror_mode": {
    "name": "ipython",
    "version": 3
   },
   "file_extension": ".py",
   "mimetype": "text/x-python",
   "name": "python",
   "nbconvert_exporter": "python",
   "pygments_lexer": "ipython3",
   "version": "3.9.17"
  }
 },
 "nbformat": 4,
 "nbformat_minor": 4
}
